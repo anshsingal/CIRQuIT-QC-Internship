{
 "cells": [
  {
   "cell_type": "code",
   "execution_count": 1,
   "metadata": {},
   "outputs": [],
   "source": [
    "import qiskit\n",
    "import math\n",
    "import numpy as np\n",
    "np.set_printoptions(precision = 3)"
   ]
  },
  {
   "cell_type": "code",
   "execution_count": 2,
   "metadata": {},
   "outputs": [
    {
     "name": "stdout",
     "output_type": "stream",
     "text": [
      "[0.645 0.764]\n"
     ]
    },
    {
     "data": {
      "text/html": [
       "<pre style=\"word-wrap: normal;white-space: pre;background: #fff0;line-height: 1.1;font-family: &quot;Courier New&quot;,Courier,monospace\">     ┌────────────────────────────┐          ┌───┐ ░ ┌─┐           \n",
       "q_0: ┤ initialize(0.6455,0.76376) ├───────■──┤ H ├─░─┤M├─────────■─\n",
       "     └───────────┬───┬────────────┘     ┌─┴─┐└───┘ ░ └╥┘┌─┐      │ \n",
       "q_1: ────────────┤ H ├───────────────■──┤ X ├──────░──╫─┤M├──■───┼─\n",
       "                 └───┘             ┌─┴─┐└───┘      ░  ║ └╥┘┌─┴─┐ │ \n",
       "q_2: ──────────────────────────────┤ X ├───────────░──╫──╫─┤ X ├─■─\n",
       "                                   └───┘           ░  ║  ║ └───┘   \n",
       "c_0: ═════════════════════════════════════════════════╩══╬═════════\n",
       "                                                         ║         \n",
       "c_1: ════════════════════════════════════════════════════╩═════════\n",
       "                                                                   \n",
       "c_2: ══════════════════════════════════════════════════════════════\n",
       "                                                                   </pre>"
      ],
      "text/plain": [
       "     ┌────────────────────────────┐          ┌───┐ ░ ┌─┐           \n",
       "q_0: ┤ initialize(0.6455,0.76376) ├───────■──┤ H ├─░─┤M├─────────■─\n",
       "     └───────────┬───┬────────────┘     ┌─┴─┐└───┘ ░ └╥┘┌─┐      │ \n",
       "q_1: ────────────┤ H ├───────────────■──┤ X ├──────░──╫─┤M├──■───┼─\n",
       "                 └───┘             ┌─┴─┐└───┘      ░  ║ └╥┘┌─┴─┐ │ \n",
       "q_2: ──────────────────────────────┤ X ├───────────░──╫──╫─┤ X ├─■─\n",
       "                                   └───┘           ░  ║  ║ └───┘   \n",
       "c_0: ═════════════════════════════════════════════════╩══╬═════════\n",
       "                                                         ║         \n",
       "c_1: ════════════════════════════════════════════════════╩═════════\n",
       "                                                                   \n",
       "c_2: ══════════════════════════════════════════════════════════════\n",
       "                                                                   "
      ]
     },
     "execution_count": 2,
     "metadata": {},
     "output_type": "execute_result"
    }
   ],
   "source": [
    "circuit = qiskit.QuantumCircuit(3,3)\n",
    "initial_state = [math.sqrt(5/12),math.sqrt(7/12)]\n",
    "print(np.array(initial_state))\n",
    "circuit.initialize(initial_state, 0)\n",
    "circuit.h([1])\n",
    "circuit.cx(1,2)\n",
    "circuit.cx(0,1)\n",
    "circuit.h([0])\n",
    "circuit.barrier()\n",
    "circuit.measure([0,1], [0,1])\n",
    "circuit.cx(1,2)\n",
    "circuit.cz(0,2)\n",
    "circuit.draw()"
   ]
  },
  {
   "cell_type": "code",
   "execution_count": 24,
   "metadata": {},
   "outputs": [
    {
     "name": "stdout",
     "output_type": "stream",
     "text": [
      "result:  0\n",
      "[0.645+0.000e+00j 0.   +0.000e+00j 0.   +0.000e+00j 0.   +0.000e+00j\n",
      " 0.764-9.353e-17j 0.   +0.000e+00j 0.   +0.000e+00j 0.   +0.000e+00j]\n",
      "\n",
      "result:  1\n",
      "[0.   +0.000e+00j 0.645+0.000e+00j 0.   +0.000e+00j 0.   +0.000e+00j\n",
      " 0.   +0.000e+00j 0.764-9.353e-17j 0.   +0.000e+00j 0.   +0.000e+00j]\n",
      "\n",
      "result:  2\n",
      "[0.   +0.000e+00j 0.   +0.000e+00j 0.   +0.000e+00j 0.645+0.000e+00j\n",
      " 0.   +0.000e+00j 0.   +0.000e+00j 0.   +0.000e+00j 0.764-9.353e-17j]\n",
      "\n",
      "result:  3\n",
      "[0.645+0.000e+00j 0.   +0.000e+00j 0.   +0.000e+00j 0.   +0.000e+00j\n",
      " 0.764-9.353e-17j 0.   +0.000e+00j 0.   +0.000e+00j 0.   +0.000e+00j]\n",
      "\n"
     ]
    }
   ],
   "source": [
    "for i in range(4):\n",
    "    sim = qiskit.Aer.get_backend('statevector_simulator')\n",
    "    result = qiskit.execute(circuit, sim, shots = 1000).result()\n",
    "    print('result: ', i)\n",
    "    print(result.get_statevector())\n",
    "    print()\n",
    "    \n"
   ]
  },
  {
   "cell_type": "code",
   "execution_count": null,
   "metadata": {},
   "outputs": [],
   "source": []
  }
 ],
 "metadata": {
  "kernelspec": {
   "display_name": "Python 3",
   "language": "python",
   "name": "python3"
  },
  "language_info": {
   "codemirror_mode": {
    "name": "ipython",
    "version": 3
   },
   "file_extension": ".py",
   "mimetype": "text/x-python",
   "name": "python",
   "nbconvert_exporter": "python",
   "pygments_lexer": "ipython3",
   "version": "3.7.6"
  }
 },
 "nbformat": 4,
 "nbformat_minor": 4
}
