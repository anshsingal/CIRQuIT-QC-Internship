{
 "cells": [
  {
   "cell_type": "code",
   "execution_count": 147,
   "metadata": {},
   "outputs": [],
   "source": [
    "from qiskit import *\n",
    "from qiskit.tools.visualization import plot_histogram, plot_bloch_multivector\n",
    "import numpy as np\n",
    "import math\n",
    "from matplotlib import style\n",
    "style.use('dark_background')\n",
    "style.use('bmh')"
   ]
  },
  {
   "cell_type": "code",
   "execution_count": 148,
   "metadata": {},
   "outputs": [],
   "source": [
    "def dirac_notation(coefficients, num_qubits):\n",
    "    print(coefficients[0], '|', bin(0).replace(\"0b\", \"\").zfill(num_qubits), '>' , sep = '', end = ' ')\n",
    "    for i in range(1, int(math.pow(2, num_qubits))):\n",
    "        print('+ ', coefficients[i], '|', bin(i).replace(\"0b\", \"\").zfill(num_qubits), '>' , sep = '', end = ' ')"
   ]
  },
  {
   "cell_type": "code",
   "execution_count": 149,
   "metadata": {},
   "outputs": [],
   "source": [
    "sim = Aer.get_backend('statevector_simulator')"
   ]
  },
  {
   "cell_type": "code",
   "execution_count": 150,
   "metadata": {},
   "outputs": [
    {
     "name": "stdout",
     "output_type": "stream",
     "text": [
      "eigenValues [-1.  1.]\n",
      "eigenVectors:\n",
      " [[-1.  1.]\n",
      " [ 1.  1.]]\n"
     ]
    }
   ],
   "source": [
    "Xgate = [[0,1],\n",
    "         [1,0]]\n",
    "eigenValues, eigenVectors = np.linalg.eigh(Xgate)\n",
    "print('eigenValues', eigenValues)\n",
    "print('eigenVectors:\\n', np.round(eigenVectors))"
   ]
  },
  {
   "cell_type": "code",
   "execution_count": 151,
   "metadata": {},
   "outputs": [
    {
     "data": {
      "image/png": "[encoded data removed]",
      "text/plain": [
       "<Figure size 298.592x144.48 with 1 Axes>"
      ]
     },
     "metadata": {},
     "output_type": "display_data"
    },
    {
     "name": "stdout",
     "output_type": "stream",
     "text": [
      "(1+0j)|00> + 0j|01> + (1+0j)|10> + 0j|11> "
     ]
    }
   ],
   "source": [
    "qc = QuantumCircuit(2)\n",
    "qc.h(1)\n",
    "qc.cx(0,1)\n",
    "display(qc.draw('mpl'))\n",
    "result = execute(qc, sim).result()\n",
    "dirac_notation(np.round(result.get_statevector()), 2)"
   ]
  },
  {
   "cell_type": "markdown",
   "metadata": {},
   "source": [
    "**|+>|0>**"
   ]
  },
  {
   "cell_type": "code",
   "execution_count": 152,
   "metadata": {},
   "outputs": [
    {
     "data": {
      "image/png": "[encoded data removed]",
      "text/plain": [
       "<Figure size 298.592x144.48 with 1 Axes>"
      ]
     },
     "metadata": {},
     "output_type": "display_data"
    },
    {
     "name": "stdout",
     "output_type": "stream",
     "text": [
      "(1+0j)|00> + (1+0j)|01> + (1+0j)|10> + (1+0j)|11> "
     ]
    }
   ],
   "source": [
    "qc = QuantumCircuit(2)\n",
    "qc.h(0)\n",
    "qc.h(1)\n",
    "qc.cx(0,1)\n",
    "display(qc.draw('mpl'))\n",
    "result = execute(qc, sim).result()\n",
    "dirac_notation(np.round(result.get_statevector()), 2)"
   ]
  },
  {
   "cell_type": "markdown",
   "metadata": {},
   "source": [
    "**|+>|+>**"
   ]
  },
  {
   "cell_type": "code",
   "execution_count": 153,
   "metadata": {},
   "outputs": [
    {
     "data": {
      "image/png": "[encoded data removed]",
      "text/plain": [
       "<Figure size 358.792x144.48 with 1 Axes>"
      ]
     },
     "metadata": {},
     "output_type": "display_data"
    },
    {
     "name": "stdout",
     "output_type": "stream",
     "text": [
      "(1-0j)|00> + 0j|01> + (-1+0j)|10> + 0j|11> "
     ]
    }
   ],
   "source": [
    "qc = QuantumCircuit(2)\n",
    "qc.x(1)\n",
    "qc.h(1)\n",
    "qc.cx(0,1)\n",
    "display(qc.draw('mpl'))\n",
    "result = execute(qc, sim).result()\n",
    "dirac_notation(np.round(result.get_statevector()), 2)"
   ]
  },
  {
   "cell_type": "markdown",
   "metadata": {},
   "source": [
    "**|->|0>**"
   ]
  },
  {
   "cell_type": "code",
   "execution_count": 154,
   "metadata": {},
   "outputs": [
    {
     "data": {
      "image/png": "[encoded data removed]",
      "text/plain": [
       "<Figure size 358.792x144.48 with 1 Axes>"
      ]
     },
     "metadata": {},
     "output_type": "display_data"
    },
    {
     "name": "stdout",
     "output_type": "stream",
     "text": [
      "0j|00> + (-1+0j)|01> + 0j|10> + (1-0j)|11> "
     ]
    }
   ],
   "source": [
    "qc = QuantumCircuit(2)\n",
    "qc.x([1, 0])\n",
    "qc.h(1)\n",
    "qc.cx(0,1)\n",
    "display(qc.draw('mpl'))\n",
    "result = execute(qc, sim).result()\n",
    "dirac_notation(np.round(result.get_statevector()), 2)"
   ]
  },
  {
   "cell_type": "markdown",
   "metadata": {},
   "source": [
    "**-|->|1>**"
   ]
  },
  {
   "cell_type": "code",
   "execution_count": 155,
   "metadata": {},
   "outputs": [
    {
     "data": {
      "image/png": "[encoded data removed]",
      "text/plain": [
       "<Figure size 358.792x144.48 with 1 Axes>"
      ]
     },
     "metadata": {},
     "output_type": "display_data"
    },
    {
     "name": "stdout",
     "output_type": "stream",
     "text": [
      "(1-0j)|00> + (-1+0j)|01> + (-1+0j)|10> + (1-0j)|11> "
     ]
    }
   ],
   "source": [
    "qc = QuantumCircuit(2)\n",
    "qc.x(1)\n",
    "qc.h([0, 1])\n",
    "qc.cx(0,1)\n",
    "display(qc.draw('mpl'))\n",
    "result = execute(qc, sim).result()\n",
    "dirac_notation(np.round(result.get_statevector()), 2)"
   ]
  },
  {
   "cell_type": "markdown",
   "metadata": {},
   "source": [
    "**|->|->**"
   ]
  },
  {
   "cell_type": "code",
   "execution_count": 156,
   "metadata": {},
   "outputs": [
    {
     "data": {
      "image/png": "[encoded data removed]",
      "text/plain": [
       "<Figure size 358.792x144.48 with 1 Axes>"
      ]
     },
     "metadata": {},
     "output_type": "display_data"
    },
    {
     "name": "stdout",
     "output_type": "stream",
     "text": [
      "(1-0j)|00> + (1-0j)|01> + (-1+0j)|10> + (-1+0j)|11> "
     ]
    }
   ],
   "source": [
    "qc = QuantumCircuit(2)\n",
    "qc.x([0,1])\n",
    "qc.h([0, 1])\n",
    "qc.cx(0,1)\n",
    "display(qc.draw('mpl'))\n",
    "result = execute(qc, sim).result()\n",
    "dirac_notation(np.round(result.get_statevector()), 2)"
   ]
  },
  {
   "cell_type": "markdown",
   "metadata": {},
   "source": [
    "**|+>|->**"
   ]
  },
  {
   "cell_type": "code",
   "execution_count": null,
   "metadata": {},
   "outputs": [],
   "source": []
  }
 ],
 "metadata": {
  "kernelspec": {
   "display_name": "Python 3",
   "language": "python",
   "name": "python3"
  },
  "language_info": {
   "codemirror_mode": {
    "name": "ipython",
    "version": 3
   },
   "file_extension": ".py",
   "mimetype": "text/x-python",
   "name": "python",
   "nbconvert_exporter": "python",
   "pygments_lexer": "ipython3",
   "version": "3.7.6"
  }
 },
 "nbformat": 4,
 "nbformat_minor": 4
}
