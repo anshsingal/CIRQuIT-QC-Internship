{
 "cells": [
  {
   "cell_type": "markdown",
   "metadata": {},
   "source": [
    "# The BB84 QKD protocol\n",
    "Let's walk through the steps of the BB84 protocol:\n",
    "\n",
    "1. In the first step, Alice chooses two random bit strings, $k$ and $b$, that each consist of $n$ bits. Her bit string $k$ contains the actual bits she wants to encode (out of which the key will later be formed), while $b$ determines the bases in which she will encode her bits. For $b_i=0$ (i.e., if the $i^{th}$ bit is zero), she encodes the $i^{th}$ qubit in the standard $\\{|0\\rangle, |1\\rangle \\}$ basis, while for $b_i=1$, she encodes it in the $\\{|+\\rangle, |-\\rangle \\}$ basis, where $|+\\rangle:=\\frac{1}{\\sqrt{2}}(|0\\rangle +|1\\rangle)$, $|-\\rangle:=\\frac{1}{\\sqrt{2}}(|0\\rangle -|1\\rangle)$. This becomes more illustrative when representing each basis by two perpendicular arrows, where the two different bases are rotated by $45^\\circ$. The encoding of each qubit $q_i$ would therefore look like the following:\n",
    "\n",
    "<img align=\"center\" width=300 src=\"./QKD-images/encoding_Alice.png\">\n",
    "\n",
    "2. After encoding her $n$ qubits, Alice sends these qubits to Bob. Bob also chooses a random bit string $\\tilde{b}$ consisting of $n$ bits that determines in which bases he is going to perform measurements. He stores the outcomes of his measurements $\\tilde{k_i}$ together with the corresponding basis bits $\\tilde{b_i}$ in a table.\n",
    "\n",
    "3. Next, Alice and Bob compare their basis bits $b_i$ and $\\tilde{b}_i$. Whenever $b_i \\neq \\tilde{b}_i$, Bob measured in a different basis than Alice's qubit was encoded in, so he gets each outcome with probability $\\frac{1}{2}$. Alice and Bob therefore discard all key bits corresponding to these basis bits. If $b_i = \\tilde{b}_i$, however, they prepared and measured the qubit in the same basis, so (unless someone eavesdropped) Bob will get the key bit that Alice encoded, $\\tilde{k}_i = k_i$. These outcomes then compose the key.\n",
    "\n",
    "## An illustrated example\n",
    "Suppose Alice's random bit strings are $k=`0111001`$ and $b=`1101000`$ and Bob's random bit string is $\\tilde{b}=`1001101`$. Try to understand the other entries in the table below. Note that in the case where the basis bits are different, Bob has a 50% chance to get each outcome, so here one of them was chosen randomly.\n",
    "\n",
    "<img src=\"./QKD-images/example_bb84.png\" width=500 align=\"center\">\n",
    "\n",
    "The key produced in this example would be '0110'. To make sure that the key is secret and correct, Alice and Bob would \"sacrifice\" some of their key bits to check that no one eavesdropped. If someone had measured a qubit on the way, this could have changed the state of that qubit and with probability $\\frac{1}{4}$, Bob's and Alice's key bits will be different. By checking $m$ bits, the probability to not notice an eavesdropper decreases as $\\left(\\frac{3}{4}\\right)^m$. Thus, if they check enough bits and they are all the same, they can assume that no one eavesdropped and their key is secret. However, to keep things simple, we will not perfom these tests in this excercise. Instead, all bits of the key will be used.\n",
    "\n",
    "### Message encrpytion\n",
    "Once a secret key is distributed, Alice can encrypt her message by using the so-called one-time pad technique: she simply adds the key bits on top of her secret message bits that she wants to send. Using the example above, her key is $\\text{key}=`0110`$. If her secret message bit string is $m=`1100`$, the encrypted message will be $c=m\\oplus \\text{key} = `1010`$. Bob can then decrypt the message by adding his key on that encrypted message, $m=c\\oplus \\text{key}$."
   ]
  },
  {
   "cell_type": "markdown",
   "metadata": {},
   "source": [
    "# Let's see who's your teammate!"
   ]
  },
  {
   "cell_type": "code",
   "execution_count": 1,
   "metadata": {},
   "outputs": [],
   "source": [
    "import random\n",
    "from qiskit import *\n",
    "from qiskit.tools.visualization import plot_histogram\n",
    "from Alice2 import *\n",
    "from Bob2 import *\n",
    "from resources.teams import *\n",
    "import os\n",
    "from IPython.display import clear_output\n",
    "%matplotlib inline"
   ]
  },
  {
   "cell_type": "code",
   "execution_count": 2,
   "metadata": {},
   "outputs": [
    {
     "name": "stdout",
     "output_type": "stream",
     "text": [
      "['arpitha']\n"
     ]
    }
   ],
   "source": [
    "# Please enter your first name here to get to know your other team members\n",
    "# For \"Shivam Kumar\" and \"Shivam Shreyansh\", please enter your full name\n",
    "# There are total 6 teams with two members each (except one team as total 13 members are there in this internship)\n",
    "\n",
    "name = 'Ansh'\n",
    "who_are_my_other_team_members(name)"
   ]
  },
  {
   "cell_type": "markdown",
   "metadata": {},
   "source": [
    "## The challenge (READ THIS CAREFULLY)\n",
    "In the following exercise, you will be paired up with one of the people in the internship group to make up a team of 2 people! One of you plays the role of Alice and another person playes the role of Bob.\n",
    "\n",
    "1. For Alice, complete the function `alice_prepare_qubit()` in order to successfully encode the key given to you using Alice's random basis bits in the python file named `Alice.py`. Each quantum circuit named `this_qubit_circuit` in the Alice's python file should be a circuit containing a single qubit and should be returned from the function `alice_prepare_qubit()`.\n",
    "\n",
    "2. For Bob, complete the function `bob_measure_qubit()` (mentioned in `Bob.py`) in order to successfully measure the qubits sent by Alice in Bob's randomly generated basis bits (take care while implementing the measure functionality here!!).\n",
    "\n",
    "3. After writing both the aforementioned functions, come to this jupyter notebook again to obtain the key by comparing Alice and Bob's key bits in the function `create_shared_key()`.\n",
    "\n",
    "4. Transmit the Alice's message by converting the value stored in the variable named `alice_msg_to_bob` into appropriatte ciphertext (use the EXOR operation as discussed above to encrypt the message using the key). Use the `alice_send_message()` function.\n",
    "\n",
    "5. Decode the Alice's message by writing code for the function `bob_decrypt_message()`.\n",
    "\n",
    "6. **Additional twist:** The plaintext message is encoded in Morse Code which is converted to a binary representation according to the following convention:-\n",
    "\n",
    "| Morse Symbol | Binary value |\n",
    "|--------------|--------------|\n",
    "| Dot          | 1            |\n",
    "| Dash         | 11           |\n",
    "| Intra-character space | 0   |\n",
    "| Inter-character space | 00  |\n",
    "| Inter-word space      | 000 |\n",
    "\n",
    "### Example\n",
    "The phrase \"QISKIT CODE\" is encoded into Morse Code as: `--.-  ..  ...  -.-  ..  -      -.-.  ---  -..  .`\n",
    "\n",
    "Binary encoding of phrase \"QISKIT CODE\" in Morse Code: `1101101011001010010101001101011001010011000110101101001101101100110101001`"
   ]
  },
  {
   "cell_type": "markdown",
   "metadata": {},
   "source": [
    "## Step-1 & 2: Alice prepares the qubits and transmits. Bob measures the qubits."
   ]
  },
  {
   "cell_type": "code",
   "execution_count": 3,
   "metadata": {},
   "outputs": [],
   "source": [
    "def eve(alice_qubit_circuits, num_qubits):\n",
    "    alice_qubit_circuit = bob_measure_qubit(num_qubits, alice_qubit_circuits)\n",
    "    \n",
    "    results = str()\n",
    "    sim = Aer.get_backend('qasm_simulator')\n",
    "    for qubit in alice_qubit_circuits:\n",
    "        results = results + str(list(execute(qubit, backend=sim, shots=1).result().get_counts().keys())[0])\n",
    "        \n",
    "    new_alice_qubit_circuits, eve_bases, eve_key = alice_prepare_qubit(num_qubits, results)\n",
    "    return new_alice_qubit_circuits, eve_bases, eve_key"
   ]
  },
  {
   "cell_type": "code",
   "execution_count": 4,
   "metadata": {},
   "outputs": [],
   "source": [
    "# Seeding a constant value to get uniform key accross all the teams\n",
    "random.seed(84) # DO NOT CHNAGE THIS SEED IF YOU WANT TO COMPLETE THIS TASK XD\n",
    "\n",
    "num_qubits = 15\n",
    "\n",
    "def bb84(is_eve, num_qubits):\n",
    "    \n",
    "    alice_qubit_circuits, alice_bases, alice_key = alice_prepare_qubit(num_qubits)\n",
    "    \n",
    "    ########################        Quantum Channel          ########################################\n",
    "    if is_eve == True:\n",
    "        alice_qubit_circuits, eve_bases, eve_key = eve(alice_qubit_circuits, num_qubits)\n",
    "    ########################        Quantum Channel          ########################################\n",
    "\n",
    "    \n",
    "    bob_qubit_circuits, bob_bases = bob_measure_qubit(num_qubits, alice_qubit_circuits)\n",
    "    \n",
    "    results = str()\n",
    "    sim = Aer.get_backend('qasm_simulator')\n",
    "    for qubit in bob_qubit_circuits:\n",
    "        results = results + str(list(execute(qubit, backend=sim, shots=1).result().get_counts().keys())[0])\n",
    "        \n",
    "    return bob_bases, alice_bases, results, alice_key\n",
    "    \n",
    "bob_bases, alice_bases, bob_key, alice_key = bb84(True, num_qubits)"
   ]
  },
  {
   "cell_type": "markdown",
   "metadata": {},
   "source": [
    "## Step-3: Make bases public and find indices of shared key"
   ]
  },
  {
   "cell_type": "code",
   "execution_count": 5,
   "metadata": {},
   "outputs": [
    {
     "name": "stdout",
     "output_type": "stream",
     "text": [
      "indices: [0, 1, 2, 3, 4, 5, 6, 7, 8, 9, 10, 11, 12, 13, 14, 15, 16, 17, 18, 19, 20, 21, 22, 23, 24, 25, 26, 27, 28, 29, 30, 31, 32, 33, 34, 38, 40, 42, 44, 46, 47]\n"
     ]
    }
   ],
   "source": [
    "def xnor(a,b):\n",
    "    return ((a and b) or ((not a) and (not b)))\n",
    "\n",
    "def create_shared_key(alice_bases, bob_bases):\n",
    "    indices = []\n",
    "    for i in range(len(alice_bases)):\n",
    "        if xnor(int(alice_bases[i]), int(bob_bases[i])):\n",
    "            indices.append(i)\n",
    "    return indices\n",
    "    \n",
    "indices = create_shared_key(alice_bases, bob_bases)\n",
    "print(\"indices:\", indices)"
   ]
  },
  {
   "cell_type": "markdown",
   "metadata": {},
   "source": [
    "## Step-3.5: Make some of the shared keys public and compare if they're the same or not"
   ]
  },
  {
   "cell_type": "code",
   "execution_count": 6,
   "metadata": {},
   "outputs": [
    {
     "data": {
      "text/plain": [
       "True"
      ]
     },
     "execution_count": 6,
     "metadata": {},
     "output_type": "execute_result"
    }
   ],
   "source": [
    "def check(alice_key, bob_key, indices, ratio_public_keys):\n",
    "    alice_public_key = []\n",
    "    bob_public_key = []\n",
    "    for i in indices[:len(indices)//ratio_public_keys]:\n",
    "        alice_public_key.append(alice_key[i])\n",
    "        bob_public_key.append(bob_key[i])\n",
    "    if alice_public_key == bob_public_key:\n",
    "        return True\n",
    "    return False\n",
    "check(alice_key, bob_key, indices, 2)"
   ]
  },
  {
   "cell_type": "markdown",
   "metadata": {},
   "source": [
    "## Step-3.75: Run the above algorithm several times to find ho many times eve got it right"
   ]
  },
  {
   "cell_type": "code",
   "execution_count": 7,
   "metadata": {},
   "outputs": [
    {
     "name": "stdout",
     "output_type": "stream",
     "text": [
      "99.0 % completeted\n"
     ]
    },
    {
     "data": {
      "image/png": "[encoded data removed]",
      "text/plain": [
       "<Figure size 504x360 with 1 Axes>"
      ]
     },
     "execution_count": 7,
     "metadata": {},
     "output_type": "execute_result"
    }
   ],
   "source": [
    "iter = 100\n",
    "eve_dict = {'OK':0, 'NOT OK':0}\n",
    "for i in range(iter):\n",
    "    bob_bases, alice_bases, bob_key, alice_key = bb84(True, 50)\n",
    "    indices = create_shared_key(alice_bases, bob_bases)\n",
    "    if check(alice_key, bob_key, indices, 5):\n",
    "        eve_dict['OK']+=1\n",
    "    else:\n",
    "        eve_dict['NOT OK']+=1\n",
    "    if i%(iter/100)==0:\n",
    "        clear_output(wait = True)\n",
    "        print(i/(iter/100), '% completeted')\n",
    "plot_histogram(eve_dict)"
   ]
  },
  {
   "cell_type": "markdown",
   "metadata": {},
   "source": [
    "## Step-4: Transmit the message from Alice to Bob"
   ]
  },
  {
   "cell_type": "code",
   "execution_count": 17,
   "metadata": {},
   "outputs": [
    {
     "name": "stdout",
     "output_type": "stream",
     "text": [
      "0011111000011111011011110010111010011001110100111111011011111100010010000110100110101110001011000101111111110001001\n"
     ]
    }
   ],
   "source": [
    "plaintext_msg = '1101101001011010010010110011000101101101100110110110011010101000110110100101011001101011011001010100110101101011011'\n",
    "\n",
    "def alice_send_message(message, key):\n",
    "    # Generate ciphertext using the plaintext_msg and key and performing the EXOR operation\n",
    "    ciphertext = ''\n",
    "    for i in range(len(message)):\n",
    "        ciphertext = ciphertext + str(int(message[i]) ^ int(key[i]))\n",
    "    return (ciphertext)\n",
    "    \n",
    "sent_msg = alice_send_message(plaintext_msg, key)\n",
    "print(sent_msg)"
   ]
  },
  {
   "cell_type": "markdown",
   "metadata": {},
   "source": [
    "## Step-5: Bob receives and decodes Alice's message"
   ]
  },
  {
   "cell_type": "code",
   "execution_count": 23,
   "metadata": {},
   "outputs": [
    {
     "name": "stdout",
     "output_type": "stream",
     "text": [
      "plaintext_msg:  1101101001011010010010110011000101101101100110110110011010101000110110100101011001101011011001010100110101101011011\n",
      "sent_msg:       0011111000011111011011110010111010011001110100111111011011111100010010000110100110101110001011000101111111110001001\n",
      "received_msg:   1101101001011010010010110011000101101101100110110110011010101000110110100101011001101011011001010100110101101011011\n"
     ]
    }
   ],
   "source": [
    "def bob_decrypt_message(ciphertext, key):\n",
    "    # get back plaintext using the sent_msg and key and performing the EXOR operation\n",
    "    plaintext = alice_send_message(ciphertext, key)\n",
    "    \n",
    "    return (plaintext)\n",
    "\n",
    "received_msg = bob_decrypt_message(sent_msg, key)\n",
    "print('plaintext_msg: ', plaintext_msg)\n",
    "print('sent_msg:      ', sent_msg)\n",
    "print('received_msg:  ', received_msg)"
   ]
  },
  {
   "cell_type": "markdown",
   "metadata": {},
   "source": [
    "## Step-6: Additional Twist: Convert the received message from Binary encoded Morse code to ASCII text"
   ]
  },
  {
   "cell_type": "code",
   "execution_count": 58,
   "metadata": {},
   "outputs": [
    {
     "name": "stdout",
     "output_type": "stream",
     "text": [
      "The message is: great job guys! \n"
     ]
    }
   ],
   "source": [
    "# Use the below dictionary to decode the message that is encoded as morse code in binary.\n",
    "MORSE_CODE_DICT = { 'a':'.-', 'b':'-...', \n",
    "                    'c':'-.-.', 'd':'-..', 'e':'.', \n",
    "                    'f':'..-.', 'g':'--.', 'h':'....', \n",
    "                    'i':'..', 'j':'.---', 'k':'-.-', \n",
    "                    'l':'.-..', 'm':'--', 'n':'-.', \n",
    "                    'o':'---', 'p':'.--.', 'q':'--.-', \n",
    "                    'r':'.-.', 's':'...', 't':'-', \n",
    "                    'u':'..-', 'v':'...-', 'w':'.--', \n",
    "                    'x':'-..-', 'y':'-.--', 'z':'--..', \n",
    "                    '1':'.----', '2':'..---', '3':'...--', \n",
    "                    '4':'....-', '5':'.....', '6':'-....', \n",
    "                    '7':'--...', '8':'---..', '9':'----.', \n",
    "                    '0':'-----', ', ':'--..--', '.':'.-.-.-', \n",
    "                    '?':'..--..', '/':'-..-.', '-':'-....-', \n",
    "                    '(':'-.--.', ')':'-.--.-', '!':'-.-.--'}\n",
    "\n",
    "def convert_to_ascii_chars(received_msg):\n",
    "    ## WRITE YOUR CODE HERE\n",
    "    for key in MORSE_CODE_DICT:\n",
    "        MORSE_CODE_DICT[key] = MORSE_CODE_DICT[key].replace('.', '10').replace('-', '110').strip('0')\n",
    "    \n",
    "    sentance = received_msg.strip('0').split('000')\n",
    "    words = list(map(lambda word : word.strip('0').split('00'), sentance))\n",
    "    ascii_msg = []\n",
    "    for word in words:\n",
    "        for charecter in word:\n",
    "            for key, value in MORSE_CODE_DICT.items():\n",
    "                #print(value, '    ', charecter)\n",
    "                if value == charecter:\n",
    "                    ascii_msg.append(key)\n",
    "                    break\n",
    "        ascii_msg.append(' ')\n",
    "    \n",
    "    ## WRITE YOUR CODE HERE\n",
    "    return str().join(ascii_msg)\n",
    "\n",
    "original_message = convert_to_ascii_chars(received_msg)\n",
    "print('The message is:', (original_message))"
   ]
  },
  {
   "cell_type": "code",
   "execution_count": null,
   "metadata": {},
   "outputs": [],
   "source": []
  }
 ],
 "metadata": {
  "kernelspec": {
   "display_name": "Python 3",
   "language": "python",
   "name": "python3"
  },
  "language_info": {
   "codemirror_mode": {
    "name": "ipython",
    "version": 3
   },
   "file_extension": ".py",
   "mimetype": "text/x-python",
   "name": "python",
   "nbconvert_exporter": "python",
   "pygments_lexer": "ipython3",
   "version": "3.8.3"
  }
 },
 "nbformat": 4,
 "nbformat_minor": 4
}
